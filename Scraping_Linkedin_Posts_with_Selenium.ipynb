{
 "cells": [
  {
   "cell_type": "markdown",
   "id": "e29c788b",
   "metadata": {},
   "source": [
    "### Importing Libraries"
   ]
  },
  {
   "cell_type": "code",
   "execution_count": 3,
   "id": "1f6ffb41",
   "metadata": {},
   "outputs": [],
   "source": [
    "from selenium import webdriver\n",
    "from selenium.webdriver.common.by import By\n",
    "import pandas as pd"
   ]
  },
  {
   "cell_type": "markdown",
   "id": "1992d20c",
   "metadata": {},
   "source": [
    "### Automating web page loading with Chrome"
   ]
  },
  {
   "cell_type": "code",
   "execution_count": 4,
   "id": "3fbf33d7",
   "metadata": {},
   "outputs": [],
   "source": [
    "url ='https://www.linkedin.com/jobs/search/?currentJobId=3324500841&keywords=IT&refresh=true'"
   ]
  },
  {
   "cell_type": "code",
   "execution_count": 5,
   "id": "e3b11d52",
   "metadata": {},
   "outputs": [],
   "source": [
    "driver = webdriver.Chrome()\n",
    "driver.get(url)"
   ]
  },
  {
   "cell_type": "markdown",
   "id": "7bd89fc8",
   "metadata": {},
   "source": [
    "### Collecting Data"
   ]
  },
  {
   "cell_type": "code",
   "execution_count": 7,
   "id": "647ab8a7",
   "metadata": {},
   "outputs": [],
   "source": [
    "jobs = driver.find_elements(By.CLASS_NAME,'base-search-card__info')\n",
    "\n",
    "job_list =[]\n",
    "for job in jobs:\n",
    "    \n",
    "    job_title = job.find_element(By.CLASS_NAME, 'base-search-card__title').text \n",
    "    try:    \n",
    "        company = job.find_element(By.CLASS_NAME, 'base-search-card__subtitle').text\n",
    "    except NoSuchElementException as e:\n",
    "        company =\"\"\n",
    "    try:\n",
    "        location = job.find_element(By.CLASS_NAME, 'job-search-card__location').text \n",
    "    except NoSuchElementException as e:\n",
    "        location = \"\"\n",
    "\n",
    "    #print(job_title, company, location)\n",
    "    \n",
    "    job_item = {\n",
    "        'job_title':job_title,\n",
    "        'company': company,\n",
    "        'location': location,\n",
    "    }\n",
    "    job_list.append(job_item)"
   ]
  },
  {
   "cell_type": "markdown",
   "id": "96e0330e",
   "metadata": {},
   "source": [
    "### Saving Data"
   ]
  },
  {
   "cell_type": "code",
   "execution_count": 9,
   "id": "070d8809",
   "metadata": {},
   "outputs": [],
   "source": [
    "df = pd.DataFrame(job_list)"
   ]
  },
  {
   "cell_type": "code",
   "execution_count": 10,
   "id": "b0e95d9a",
   "metadata": {},
   "outputs": [],
   "source": [
    "df.to_csv('LinkedIn_Jobs_scraped_data.csv', index=False, encoding='utf-8')"
   ]
  },
  {
   "cell_type": "code",
   "execution_count": 11,
   "id": "e7ecb12e",
   "metadata": {},
   "outputs": [
    {
     "data": {
      "text/html": [
       "<div>\n",
       "<style scoped>\n",
       "    .dataframe tbody tr th:only-of-type {\n",
       "        vertical-align: middle;\n",
       "    }\n",
       "\n",
       "    .dataframe tbody tr th {\n",
       "        vertical-align: top;\n",
       "    }\n",
       "\n",
       "    .dataframe thead th {\n",
       "        text-align: right;\n",
       "    }\n",
       "</style>\n",
       "<table border=\"1\" class=\"dataframe\">\n",
       "  <thead>\n",
       "    <tr style=\"text-align: right;\">\n",
       "      <th></th>\n",
       "      <th>job_title</th>\n",
       "      <th>company</th>\n",
       "      <th>location</th>\n",
       "    </tr>\n",
       "  </thead>\n",
       "  <tbody>\n",
       "    <tr>\n",
       "      <th>0</th>\n",
       "      <td>IT Administrator</td>\n",
       "      <td>fairlife, LLC</td>\n",
       "      <td>Goodyear, Arizona, États-Unis</td>\n",
       "    </tr>\n",
       "    <tr>\n",
       "      <th>1</th>\n",
       "      <td>IT Specialist</td>\n",
       "      <td>Bowler Pons Solutions Consultants, LLC</td>\n",
       "      <td>Washington, District de Columbia, États-Unis</td>\n",
       "    </tr>\n",
       "    <tr>\n",
       "      <th>2</th>\n",
       "      <td>IT Director</td>\n",
       "      <td>Anveta, Inc</td>\n",
       "      <td>Indianapolis, Indiana, États-Unis</td>\n",
       "    </tr>\n",
       "    <tr>\n",
       "      <th>3</th>\n",
       "      <td>Head of IT</td>\n",
       "      <td>The Smilist Management</td>\n",
       "      <td>Great Neck, New York, États-Unis</td>\n",
       "    </tr>\n",
       "    <tr>\n",
       "      <th>4</th>\n",
       "      <td>IT Manager</td>\n",
       "      <td>Wayne Wire Cloth Products, Inc.</td>\n",
       "      <td>Kalkaska, Michigan, États-Unis</td>\n",
       "    </tr>\n",
       "    <tr>\n",
       "      <th>5</th>\n",
       "      <td>IT Manager</td>\n",
       "      <td>Kitchen United</td>\n",
       "      <td>Pasadena, Californie, États-Unis</td>\n",
       "    </tr>\n",
       "  </tbody>\n",
       "</table>\n",
       "</div>"
      ],
      "text/plain": [
       "          job_title                                 company  \\\n",
       "0  IT Administrator                           fairlife, LLC   \n",
       "1     IT Specialist  Bowler Pons Solutions Consultants, LLC   \n",
       "2       IT Director                             Anveta, Inc   \n",
       "3        Head of IT                  The Smilist Management   \n",
       "4        IT Manager         Wayne Wire Cloth Products, Inc.   \n",
       "5        IT Manager                          Kitchen United   \n",
       "\n",
       "                                       location  \n",
       "0                 Goodyear, Arizona, États-Unis  \n",
       "1  Washington, District de Columbia, États-Unis  \n",
       "2             Indianapolis, Indiana, États-Unis  \n",
       "3              Great Neck, New York, États-Unis  \n",
       "4                Kalkaska, Michigan, États-Unis  \n",
       "5              Pasadena, Californie, États-Unis  "
      ]
     },
     "execution_count": 11,
     "metadata": {},
     "output_type": "execute_result"
    }
   ],
   "source": [
    "data = pd.read_csv('LinkedIn_Jobs_scraped_data.csv')\n",
    "data.head(6)"
   ]
  }
 ],
 "metadata": {
  "kernelspec": {
   "display_name": "Python 3 (ipykernel)",
   "language": "python",
   "name": "python3"
  },
  "language_info": {
   "codemirror_mode": {
    "name": "ipython",
    "version": 3
   },
   "file_extension": ".py",
   "mimetype": "text/x-python",
   "name": "python",
   "nbconvert_exporter": "python",
   "pygments_lexer": "ipython3",
   "version": "3.10.9"
  }
 },
 "nbformat": 4,
 "nbformat_minor": 5
}
